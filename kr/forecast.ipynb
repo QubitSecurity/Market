$$
\text{Projected Market Size} = \text{Current Market Size} \times (1 + 0.15)^{10} \approx 4 \times 4.0456 = 12.137 \text{ trillion KRW}
$$
